{
 "cells": [
  {
   "cell_type": "markdown",
   "metadata": {},
   "source": [
    "This Python notebook contains the code to reproduce the experiments in our [paper](https://arxiv.org/pdf/2101.10040.pdf):\n",
    "> C. W. Combettes and S. Pokutta. Complexity of Linear Minimization and Projection on Some Sets. *arXiv preprint arXiv:2101.10040*, 2021."
   ]
  },
  {
   "cell_type": "code",
   "execution_count": 1,
   "metadata": {},
   "outputs": [],
   "source": [
    "import matplotlib.pyplot as plt\n",
    "import numpy as np\n",
    "\n",
    "from scipy.linalg import pinv\n",
    "from scipy.sparse.linalg import svds\n",
    "from time import process_time"
   ]
  },
  {
   "cell_type": "code",
   "execution_count": 2,
   "metadata": {},
   "outputs": [],
   "source": [
    "def plotter(lp, qp, n_grid, title=None, xticks=False):\n",
    "        \n",
    "    fig = plt.figure()\n",
    "    fig.set_figheight(3)\n",
    "    fig.set_figwidth(3.5)\n",
    "\n",
    "    plt.plot(n_grid, qp, 'o-', label='QP')\n",
    "    plt.plot(n_grid, lp, 'o-' , label='LP')\n",
    "    plt.xscale('log')\n",
    "    \n",
    "    if title is not None:\n",
    "        plt.title(title)\n",
    "    plt.ylabel('CPU time (s)')\n",
    "    plt.xlabel('Dimension $n$')\n",
    "    plt.legend()\n",
    "    \n",
    "    plt.grid(linestyle=':')\n",
    "    if xticks:\n",
    "        plt.xticks(n_grid, n_grid)\n",
    "    plt.tick_params(which='minor', bottom=False)\n",
    "\n",
    "    plt.show()"
   ]
  },
  {
   "cell_type": "markdown",
   "metadata": {},
   "source": [
    "# Projection onto the standard simplex\n",
    "\n",
    "This function is used for Figures 1 and 2."
   ]
  },
  {
   "cell_type": "code",
   "execution_count": 3,
   "metadata": {},
   "outputs": [],
   "source": [
    "def proj_simplex(y):\n",
    "    \n",
    "    '''\n",
    "    Projection onto the standard simplex\n",
    "    The input y must be in the nonnegative orthant\n",
    "    '''\n",
    "    \n",
    "    if np.sum(y) == 1:\n",
    "        return y\n",
    "    \n",
    "    v, vv, rho = [y[0]], [], y[0]-1\n",
    "    N = len(y)\n",
    "\n",
    "    for n in range(1, N):\n",
    "        yn = y[n]\n",
    "        if yn > rho:\n",
    "            rho += (yn-rho)/(len(v)+1)\n",
    "            if rho > yn-1:\n",
    "                v.append(yn)\n",
    "            else:\n",
    "                vv.extend(v)\n",
    "                v = [yn]\n",
    "                rho = yn-1\n",
    "\n",
    "    if len(vv) > 0:\n",
    "        for w in vv:\n",
    "            if w > rho:\n",
    "                v.append(w)\n",
    "                rho += (w-rho)/len(v)\n",
    "\n",
    "    l, flag = len(v), 1\n",
    "    while flag == 1:\n",
    "        for w in v:\n",
    "            if w <= rho:\n",
    "                v.remove(w)\n",
    "                rho += (rho-w)/len(v)\n",
    "        if len(v) != l:\n",
    "            l, flag = len(v), 1\n",
    "        else:\n",
    "            flag = 0\n",
    "\n",
    "    return np.maximum(y-rho, 0)"
   ]
  },
  {
   "cell_type": "markdown",
   "metadata": {},
   "source": [
    "# Figure 1: The $\\ell_1$-ball"
   ]
  },
  {
   "cell_type": "code",
   "execution_count": 4,
   "metadata": {},
   "outputs": [],
   "source": [
    "def LP(y):\n",
    "    \n",
    "    idx = np.argmax(np.abs(y))\n",
    "    x = np.zeros(len(y))\n",
    "    x[idx] = -np.sign(y[idx])\n",
    "        \n",
    "    return x\n",
    "\n",
    "def QP(y):\n",
    "    \n",
    "    if np.linalg.norm(y, 1) <= 1:\n",
    "        return y\n",
    "    \n",
    "    else:\n",
    "        return np.sign(y)*proj_simplex(np.abs(y))"
   ]
  },
  {
   "cell_type": "code",
   "execution_count": 5,
   "metadata": {},
   "outputs": [
    {
     "name": "stdout",
     "output_type": "stream",
     "text": [
      "10\n",
      "100\n",
      "1000\n",
      "10000\n",
      "100000\n",
      "1000000\n",
      "10000000\n",
      "100000000\n"
     ]
    }
   ],
   "source": [
    "n_grid = [10**i for i in range(1, 9)]\n",
    "\n",
    "lp, qp = [], []\n",
    "\n",
    "for n in n_grid:\n",
    "\n",
    "    print(n)\n",
    "\n",
    "    y = np.random.randn(n)\n",
    "    \n",
    "    t1 = process_time()\n",
    "    LP(y)\n",
    "    t2 = process_time()\n",
    "    QP(y)\n",
    "    t3 = process_time()\n",
    "\n",
    "    lp.append(t2-t1)\n",
    "    qp.append(t3-t2)"
   ]
  },
  {
   "cell_type": "code",
   "execution_count": 7,
   "metadata": {},
   "outputs": [
    {
     "data": {
      "image/png": "[encoded data removed]",
      "text/plain": [
       "<Figure size 252x216 with 1 Axes>"
      ]
     },
     "metadata": {
      "needs_background": "light"
     },
     "output_type": "display_data"
    }
   ],
   "source": [
    "plotter(lp, qp, n_grid)"
   ]
  },
  {
   "cell_type": "markdown",
   "metadata": {},
   "source": [
    "# Figure 2: The nuclear norm-ball"
   ]
  },
  {
   "cell_type": "code",
   "execution_count": 9,
   "metadata": {},
   "outputs": [],
   "source": [
    "def LP(Y, solver):\n",
    "    \n",
    "    u, s, vt = svds(-Y, k=1, which='LM', solver=solver)\n",
    "    \n",
    "    return np.outer(u, vt)\n",
    "\n",
    "def QP(Y):\n",
    "    \n",
    "    u, s, vh = np.linalg.svd(Y, full_matrices=False)\n",
    "    ss = proj_simplex(s)\n",
    "    \n",
    "    return np.dot(u, ss*vh)"
   ]
  },
  {
   "cell_type": "code",
   "execution_count": 10,
   "metadata": {},
   "outputs": [],
   "source": [
    "n_grid = [100, 200, 500, 1000, 2000, 5000]"
   ]
  },
  {
   "cell_type": "markdown",
   "metadata": {},
   "source": [
    "## Left: Random input"
   ]
  },
  {
   "cell_type": "code",
   "execution_count": 11,
   "metadata": {},
   "outputs": [
    {
     "name": "stdout",
     "output_type": "stream",
     "text": [
      "100\n",
      "200\n",
      "500\n",
      "1000\n",
      "2000\n",
      "5000\n"
     ]
    }
   ],
   "source": [
    "lp, qp = [], []\n",
    "\n",
    "for n in n_grid:\n",
    "\n",
    "    print(n)\n",
    "\n",
    "    Y = np.random.randn(n, n)\n",
    "    \n",
    "    t1 = process_time()\n",
    "    LP(Y, 'arpack')\n",
    "    t2 = process_time()\n",
    "    QP(Y)\n",
    "    t3 = process_time()\n",
    "\n",
    "    lp.append(t2-t1)\n",
    "    qp.append(t3-t2)"
   ]
  },
  {
   "cell_type": "code",
   "execution_count": 13,
   "metadata": {},
   "outputs": [
    {
     "data": {
      "image/png": "[encoded data removed]",
      "text/plain": [
       "<Figure size 252x216 with 1 Axes>"
      ]
     },
     "metadata": {
      "needs_background": "light"
     },
     "output_type": "display_data"
    }
   ],
   "source": [
    "plotter(lp, qp, n_grid, title='Random input', xticks=True)"
   ]
  },
  {
   "cell_type": "markdown",
   "metadata": {},
   "source": [
    "## Right: Random symmetric input"
   ]
  },
  {
   "cell_type": "code",
   "execution_count": 15,
   "metadata": {},
   "outputs": [
    {
     "name": "stdout",
     "output_type": "stream",
     "text": [
      "100\n",
      "200\n",
      "500\n",
      "1000\n",
      "2000\n",
      "5000\n"
     ]
    }
   ],
   "source": [
    "lp, qp = [], []\n",
    "\n",
    "for n in n_grid:\n",
    "\n",
    "    print(n)\n",
    "\n",
    "    Y = np.random.randn(n, n)\n",
    "    Y = (Y+np.transpose(Y))/2\n",
    "    \n",
    "    t1 = process_time()\n",
    "    LP(Y, 'lobpcg')\n",
    "    t2 = process_time()\n",
    "    QP(Y)\n",
    "    t3 = process_time()\n",
    "\n",
    "    lp.append(t2-t1)\n",
    "    qp.append(t3-t2)"
   ]
  },
  {
   "cell_type": "code",
   "execution_count": 17,
   "metadata": {},
   "outputs": [
    {
     "data": {
      "image/png": "[encoded data removed]",
      "text/plain": [
       "<Figure size 252x216 with 1 Axes>"
      ]
     },
     "metadata": {
      "needs_background": "light"
     },
     "output_type": "display_data"
    }
   ],
   "source": [
    "plotter(lp, qp, n_grid, title='Random symmetric input', xticks=True)"
   ]
  },
  {
   "cell_type": "markdown",
   "metadata": {},
   "source": [
    "# Bonus: The Birkhoff polytope\n",
    "\n",
    "Checking the expressions of $A^\\dagger$ and $A^\\dagger A$ numerically."
   ]
  },
  {
   "cell_type": "code",
   "execution_count": 2,
   "metadata": {},
   "outputs": [],
   "source": [
    "def a(n):\n",
    "\n",
    "    A = np.zeros((2*n, n**2))\n",
    "    A[n:] = np.concatenate([np.identity(n)]*n, axis=1)\n",
    "\n",
    "    e = np.ones(n)\n",
    "    for i in range(n):\n",
    "        A[i, n*i:n*(i+1)] = e\n",
    "        \n",
    "    return A\n",
    "\n",
    "def adag(n):\n",
    "    \n",
    "    return np.transpose(a(n))/n-np.ones((n**2, 2*n))/(2*n**2)\n",
    "\n",
    "def adaga(n):\n",
    "    \n",
    "    I, J = np.identity(n), np.ones((n, n))\n",
    "    \n",
    "    B1 = n*I+(n-1)*J\n",
    "    B2 = n*I-J\n",
    "    \n",
    "    return np.block([[B2]*i+[B1]+[B2]*(n-1-i) for i in range(n)])/n**2"
   ]
  },
  {
   "cell_type": "code",
   "execution_count": 3,
   "metadata": {},
   "outputs": [
    {
     "name": "stdout",
     "output_type": "stream",
     "text": [
      "[[1. 1. 1. 1. 0. 0. 0. 0. 0. 0. 0. 0. 0. 0. 0. 0.]\n",
      " [0. 0. 0. 0. 1. 1. 1. 1. 0. 0. 0. 0. 0. 0. 0. 0.]\n",
      " [0. 0. 0. 0. 0. 0. 0. 0. 1. 1. 1. 1. 0. 0. 0. 0.]\n",
      " [0. 0. 0. 0. 0. 0. 0. 0. 0. 0. 0. 0. 1. 1. 1. 1.]\n",
      " [1. 0. 0. 0. 1. 0. 0. 0. 1. 0. 0. 0. 1. 0. 0. 0.]\n",
      " [0. 1. 0. 0. 0. 1. 0. 0. 0. 1. 0. 0. 0. 1. 0. 0.]\n",
      " [0. 0. 1. 0. 0. 0. 1. 0. 0. 0. 1. 0. 0. 0. 1. 0.]\n",
      " [0. 0. 0. 1. 0. 0. 0. 1. 0. 0. 0. 1. 0. 0. 0. 1.]] \n",
      "\n",
      "[[ 7.  3.  3.  3.  3. -1. -1. -1.  3. -1. -1. -1.  3. -1. -1. -1.]\n",
      " [ 3.  7.  3.  3. -1.  3. -1. -1. -1.  3. -1. -1. -1.  3. -1. -1.]\n",
      " [ 3.  3.  7.  3. -1. -1.  3. -1. -1. -1.  3. -1. -1. -1.  3. -1.]\n",
      " [ 3.  3.  3.  7. -1. -1. -1.  3. -1. -1. -1.  3. -1. -1. -1.  3.]\n",
      " [ 3. -1. -1. -1.  7.  3.  3.  3.  3. -1. -1. -1.  3. -1. -1. -1.]\n",
      " [-1.  3. -1. -1.  3.  7.  3.  3. -1.  3. -1. -1. -1.  3. -1. -1.]\n",
      " [-1. -1.  3. -1.  3.  3.  7.  3. -1. -1.  3. -1. -1. -1.  3. -1.]\n",
      " [-1. -1. -1.  3.  3.  3.  3.  7. -1. -1. -1.  3. -1. -1. -1.  3.]\n",
      " [ 3. -1. -1. -1.  3. -1. -1. -1.  7.  3.  3.  3.  3. -1. -1. -1.]\n",
      " [-1.  3. -1. -1. -1.  3. -1. -1.  3.  7.  3.  3. -1.  3. -1. -1.]\n",
      " [-1. -1.  3. -1. -1. -1.  3. -1.  3.  3.  7.  3. -1. -1.  3. -1.]\n",
      " [-1. -1. -1.  3. -1. -1. -1.  3.  3.  3.  3.  7. -1. -1. -1.  3.]\n",
      " [ 3. -1. -1. -1.  3. -1. -1. -1.  3. -1. -1. -1.  7.  3.  3.  3.]\n",
      " [-1.  3. -1. -1. -1.  3. -1. -1. -1.  3. -1. -1.  3.  7.  3.  3.]\n",
      " [-1. -1.  3. -1. -1. -1.  3. -1. -1. -1.  3. -1.  3.  3.  7.  3.]\n",
      " [-1. -1. -1.  3. -1. -1. -1.  3. -1. -1. -1.  3.  3.  3.  3.  7.]]\n"
     ]
    }
   ],
   "source": [
    "n = 4\n",
    "\n",
    "print(a(n), '\\n')\n",
    "print(adaga(n)*n**2)"
   ]
  },
  {
   "cell_type": "code",
   "execution_count": 4,
   "metadata": {},
   "outputs": [
    {
     "name": "stdout",
     "output_type": "stream",
     "text": [
      "n = 44 \n",
      "\n",
      "1.2696536400077704e-15\n",
      "1.2892302748324753e-15\n"
     ]
    }
   ],
   "source": [
    "n = np.random.randint(2, 50)\n",
    "print('n =', n, '\\n')\n",
    "\n",
    "A = a(n)\n",
    "\n",
    "Adag = pinv(A)\n",
    "print(np.linalg.norm(adag(n)-Adag)/np.linalg.norm(Adag))\n",
    "\n",
    "AdagA = np.dot(Adag, A)\n",
    "print(np.linalg.norm(adaga(n)-AdagA)/np.linalg.norm(AdagA))"
   ]
  },
  {
   "cell_type": "code",
   "execution_count": null,
   "metadata": {},
   "outputs": [],
   "source": []
  }
 ],
 "metadata": {
  "kernelspec": {
   "display_name": "Python 3",
   "language": "python",
   "name": "python3"
  },
  "language_info": {
   "codemirror_mode": {
    "name": "ipython",
    "version": 3
   },
   "file_extension": ".py",
   "mimetype": "text/x-python",
   "name": "python",
   "nbconvert_exporter": "python",
   "pygments_lexer": "ipython3",
   "version": "3.8.5"
  }
 },
 "nbformat": 4,
 "nbformat_minor": 2
}
