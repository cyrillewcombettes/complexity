{
  "nbformat": 4,
  "nbformat_minor": 0,
  "metadata": {
    "kernelspec": {
      "display_name": "Python 3",
      "language": "python",
      "name": "python3"
    },
    "language_info": {
      "codemirror_mode": {
        "name": "ipython",
        "version": 3
      },
      "file_extension": ".py",
      "mimetype": "text/x-python",
      "name": "python",
      "nbconvert_exporter": "python",
      "pygments_lexer": "ipython3",
      "version": "3.8.5"
    },
    "colab": {
      "name": "complexity-code.ipynb",
      "provenance": [],
      "collapsed_sections": []
    }
  },
  "cells": [
    {
      "cell_type": "markdown",
      "metadata": {
        "id": "ikHwsOZmPdIy"
      },
      "source": [
        "This Python notebook contains the code to reproduce the experiments in our [paper](https://arxiv.org/pdf/2101.10040.pdf):\n",
        "> C. W. Combettes and S. Pokutta. Complexity of linear minimization and projection on some sets. *Operations Research Letters*, 49(4):565&ndash;571, 2021."
      ]
    },
    {
      "cell_type": "code",
      "metadata": {
        "id": "O_hCToUJPdI5"
      },
      "source": [
        "import matplotlib.pyplot as plt\n",
        "import numpy as np\n",
        "\n",
        "from scipy.linalg import pinv, svd\n",
        "from scipy.sparse.linalg import svds\n",
        "from time import process_time"
      ],
      "execution_count": null,
      "outputs": []
    },
    {
      "cell_type": "code",
      "metadata": {
        "id": "6KV1l_h_PdI6"
      },
      "source": [
        "def plotter(n_grid, lp, qp, title=None, xticks=False):\n",
        "        \n",
        "    fig = plt.figure()\n",
        "    fig.set_figheight(3)\n",
        "    fig.set_figwidth(3.5)\n",
        "    \n",
        "    lp_mean, lp_std = np.mean(lp, axis=1), np.std(lp, axis=1)\n",
        "    qp_mean, qp_std = np.mean(qp, axis=1), np.std(qp, axis=1)\n",
        "    \n",
        "    plt.plot(n_grid, qp_mean, 'o-', color='tab:blue', label='projection')\n",
        "    plt.fill_between(n_grid, qp_mean+qp_std, qp_mean-qp_std, color='tab:blue', alpha=0.2)\n",
        "    plt.plot(n_grid, lp_mean, 'o-', color='tab:orange', label='linear\\nminimization')\n",
        "    plt.fill_between(n_grid, lp_mean+lp_std, lp_mean-lp_std, color='tab:orange', alpha=0.2)\n",
        "    \n",
        "    plt.yscale('log')\n",
        "    plt.xscale('log')\n",
        "    \n",
        "    if title:\n",
        "        plt.title(title)\n",
        "    plt.ylabel('CPU time (s)')\n",
        "    plt.xlabel('Dimension $n$')\n",
        "    plt.legend()\n",
        "    \n",
        "    plt.grid(linestyle=':')\n",
        "    if xticks:\n",
        "        plt.xticks(xticks[0], xticks[1])\n",
        "    plt.tick_params(which='minor', left=False, bottom=False)\n",
        "\n",
        "    plt.show()"
      ],
      "execution_count": null,
      "outputs": []
    },
    {
      "cell_type": "markdown",
      "metadata": {
        "id": "W68y5hrkPdI7"
      },
      "source": [
        "# Projection onto the standard simplex\n",
        "\n",
        "This function is used for Figures 1 and 2."
      ]
    },
    {
      "cell_type": "code",
      "metadata": {
        "id": "elVKdMQAPdI7"
      },
      "source": [
        "def proj_simplex(y):\n",
        "    \n",
        "    '''\n",
        "    Projection onto the standard simplex\n",
        "    The input y must be in the nonnegative orthant\n",
        "    '''\n",
        "    \n",
        "    if np.sum(y) == 1:\n",
        "        return y\n",
        "    \n",
        "    v, vv, rho = [y[0]], [], y[0]-1\n",
        "    N = len(y)\n",
        "\n",
        "    for n in range(1, N):\n",
        "        yn = y[n]\n",
        "        if yn > rho:\n",
        "            rho += (yn-rho)/(len(v)+1)\n",
        "            if rho > yn-1:\n",
        "                v.append(yn)\n",
        "            else:\n",
        "                vv.extend(v)\n",
        "                v = [yn]\n",
        "                rho = yn-1\n",
        "\n",
        "    if len(vv) > 0:\n",
        "        for w in vv:\n",
        "            if w > rho:\n",
        "                v.append(w)\n",
        "                rho += (w-rho)/len(v)\n",
        "\n",
        "    l, flag = len(v), 1\n",
        "    while flag == 1:\n",
        "        for w in v:\n",
        "            if w <= rho:\n",
        "                v.remove(w)\n",
        "                rho += (rho-w)/len(v)\n",
        "        if len(v) != l:\n",
        "            l, flag = len(v), 1\n",
        "        else:\n",
        "            flag = 0\n",
        "\n",
        "    return np.maximum(y-rho, 0)"
      ],
      "execution_count": null,
      "outputs": []
    },
    {
      "cell_type": "markdown",
      "metadata": {
        "id": "GK2MvP7zPdI7"
      },
      "source": [
        "# Figure 1: The $\\ell_1$-ball"
      ]
    },
    {
      "cell_type": "code",
      "metadata": {
        "id": "XANhxK8mPdI8"
      },
      "source": [
        "def LP(y):\n",
        "    \n",
        "    idx = np.argmax(np.abs(y))\n",
        "    x = np.zeros(len(y))\n",
        "    x[idx] = -np.sign(y[idx])\n",
        "        \n",
        "    return x\n",
        "\n",
        "def QP(y):\n",
        "    \n",
        "    if np.linalg.norm(y, 1) <= 1:\n",
        "        return y\n",
        "    \n",
        "    else:\n",
        "        return np.sign(y)*proj_simplex(np.abs(y))"
      ],
      "execution_count": null,
      "outputs": []
    },
    {
      "cell_type": "code",
      "metadata": {
        "colab": {
          "base_uri": "https://localhost:8080/"
        },
        "id": "I5TS21ZjPdI9",
        "outputId": "dba7d3d0-6bd9-4a38-fa75-1316c4469733"
      },
      "source": [
        "n_grid = [10**i for i in range(2, 9)]\n",
        "\n",
        "lp, qp = [], []\n",
        "\n",
        "for n in n_grid:\n",
        "\n",
        "    print(n)\n",
        "    \n",
        "    lpn, qpn = [], []\n",
        "    \n",
        "    for k in range(5):\n",
        "        \n",
        "        y = np.random.randn(n)\n",
        "\n",
        "        t1 = process_time()\n",
        "        LP(y)\n",
        "        t2 = process_time()\n",
        "        QP(y)\n",
        "        t3 = process_time()\n",
        "\n",
        "        lpn.append(t2-t1)\n",
        "        qpn.append(t3-t2)\n",
        "\n",
        "    lp.append(lpn)\n",
        "    qp.append(qpn)"
      ],
      "execution_count": null,
      "outputs": [
        {
          "output_type": "stream",
          "text": [
            "100\n",
            "1000\n",
            "10000\n",
            "100000\n",
            "1000000\n",
            "10000000\n",
            "100000000\n"
          ],
          "name": "stdout"
        }
      ]
    },
    {
      "cell_type": "code",
      "metadata": {
        "colab": {
          "base_uri": "https://localhost:8080/",
          "height": 231
        },
        "id": "d7VAh1PoPdI-",
        "outputId": "3eb81346-9ae8-4083-b950-a98c132207a7"
      },
      "source": [
        "plotter(n_grid, lp, qp, xticks=[[10**(2*i) for i in range(1, 5)], ['$10^{}$'.format(2*i) for i in range(1, 5)]])"
      ],
      "execution_count": null,
      "outputs": [
        {
          "output_type": "display_data",
          "data": {
            "image/png": "[encoded data removed]",
            "text/plain": [
              "<Figure size 252x216 with 1 Axes>"
            ]
          },
          "metadata": {
            "tags": [],
            "needs_background": "light"
          }
        }
      ]
    },
    {
      "cell_type": "markdown",
      "metadata": {
        "id": "YgY117lCPdJA"
      },
      "source": [
        "# Figure 2: The nuclear norm-ball"
      ]
    },
    {
      "cell_type": "code",
      "metadata": {
        "id": "rtTHLBLGPdJB"
      },
      "source": [
        "def LP(Y, solver):\n",
        "    \n",
        "    u, s, vt = svds(-Y, k=1, which='LM', solver=solver)\n",
        "    \n",
        "    return np.outer(u, vt)\n",
        "\n",
        "def QP(Y):\n",
        "    \n",
        "    u, s, vh = np.linalg.svd(Y, full_matrices=False)\n",
        "    ss = proj_simplex(s)\n",
        "    \n",
        "    return np.dot(u, ss*vh)"
      ],
      "execution_count": null,
      "outputs": []
    },
    {
      "cell_type": "code",
      "metadata": {
        "id": "QlOLXBgNPdJB"
      },
      "source": [
        "n_grid = [100, 200, 500, 1000, 2000, 5000, 10000]"
      ],
      "execution_count": null,
      "outputs": []
    },
    {
      "cell_type": "markdown",
      "metadata": {
        "id": "cmHEaBdYPdJB"
      },
      "source": [
        "## Left: Random input"
      ]
    },
    {
      "cell_type": "code",
      "metadata": {
        "colab": {
          "base_uri": "https://localhost:8080/"
        },
        "id": "0t8rmjJVPdJC",
        "outputId": "454e94c9-7644-4bdd-87d0-b7c7108d5645"
      },
      "source": [
        "lp, qp = [], []\n",
        "\n",
        "for n in n_grid:\n",
        "\n",
        "    print(n)\n",
        "    \n",
        "    lpn, qpn = [], []\n",
        "    \n",
        "    for k in range(5):\n",
        "        \n",
        "        Y = np.random.randn(n, n)\n",
        "\n",
        "        t1 = process_time()\n",
        "        LP(Y, 'arpack')\n",
        "        t2 = process_time()\n",
        "        QP(Y)\n",
        "        t3 = process_time()\n",
        "\n",
        "        lpn.append(t2-t1)\n",
        "        qpn.append(t3-t2)\n",
        "\n",
        "    lp.append(lpn)\n",
        "    qp.append(qpn)"
      ],
      "execution_count": null,
      "outputs": [
        {
          "output_type": "stream",
          "text": [
            "100\n",
            "200\n",
            "500\n",
            "1000\n",
            "2000\n",
            "5000\n",
            "10000\n"
          ],
          "name": "stdout"
        }
      ]
    },
    {
      "cell_type": "code",
      "metadata": {
        "colab": {
          "base_uri": "https://localhost:8080/",
          "height": 247
        },
        "id": "UcvgWKlxPdJC",
        "outputId": "0ba27dc2-0bbe-4d38-fd5f-5e2497229f3e"
      },
      "source": [
        "plotter(n_grid, lp, qp, title='Random input')"
      ],
      "execution_count": null,
      "outputs": [
        {
          "output_type": "display_data",
          "data": {
            "image/png": "[encoded data removed]",
            "text/plain": [
              "<Figure size 252x216 with 1 Axes>"
            ]
          },
          "metadata": {
            "tags": [],
            "needs_background": "light"
          }
        }
      ]
    },
    {
      "cell_type": "markdown",
      "metadata": {
        "id": "iJuizTh-PdJD"
      },
      "source": [
        "## Right: Random symmetric input"
      ]
    },
    {
      "cell_type": "code",
      "metadata": {
        "colab": {
          "base_uri": "https://localhost:8080/"
        },
        "id": "2A4UNHy2PdJD",
        "outputId": "9478c8db-a3e9-479c-ecd2-29216e5b1a30"
      },
      "source": [
        "lp, qp = [], []\n",
        "\n",
        "for n in n_grid:\n",
        "\n",
        "    print(n)\n",
        "    \n",
        "    lpn, qpn = [], []\n",
        "    \n",
        "    for k in range(5):\n",
        "        \n",
        "        Y = np.random.randn(n, n)\n",
        "        Y = (Y+np.transpose(Y))/2\n",
        "\n",
        "        t1 = process_time()\n",
        "        LP(Y, 'lobpcg')\n",
        "        t2 = process_time()\n",
        "        QP(Y)\n",
        "        t3 = process_time()\n",
        "\n",
        "        lpn.append(t2-t1)\n",
        "        qpn.append(t3-t2)\n",
        "\n",
        "    lp.append(lpn)\n",
        "    qp.append(qpn)"
      ],
      "execution_count": null,
      "outputs": [
        {
          "output_type": "stream",
          "text": [
            "100\n",
            "200\n",
            "500\n",
            "1000\n",
            "2000\n",
            "5000\n",
            "10000\n"
          ],
          "name": "stdout"
        }
      ]
    },
    {
      "cell_type": "code",
      "metadata": {
        "colab": {
          "base_uri": "https://localhost:8080/",
          "height": 247
        },
        "id": "TCfgukRGPdJE",
        "outputId": "0b472865-8e01-46f1-c306-6f0e9b05e0a2"
      },
      "source": [
        "plotter(n_grid, lp, qp, title='Random symmetric input')"
      ],
      "execution_count": null,
      "outputs": [
        {
          "output_type": "display_data",
          "data": {
            "image/png": "[encoded data removed]",
            "text/plain": [
              "<Figure size 252x216 with 1 Axes>"
            ]
          },
          "metadata": {
            "tags": [],
            "needs_background": "light"
          }
        }
      ]
    },
    {
      "cell_type": "markdown",
      "metadata": {
        "id": "rlY2HmH9PdJF"
      },
      "source": [
        "# Bonus: The Birkhoff polytope\n",
        "\n",
        "Checking the expressions of $A^\\dagger$ and $A^\\dagger A$ numerically."
      ]
    },
    {
      "cell_type": "code",
      "metadata": {
        "id": "_-AteFLaPdJF"
      },
      "source": [
        "def a(n):\n",
        "\n",
        "    A = np.zeros((2*n, n**2))\n",
        "    A[n:] = np.concatenate([np.identity(n)]*n, axis=1)\n",
        "\n",
        "    e = np.ones(n)\n",
        "    for i in range(n):\n",
        "        A[i, n*i:n*(i+1)] = e\n",
        "        \n",
        "    return A\n",
        "\n",
        "def adag(n):\n",
        "    \n",
        "    return np.transpose(a(n))/n-np.ones((n**2, 2*n))/(2*n**2)\n",
        "\n",
        "def adaga(n):\n",
        "    \n",
        "    I, J = np.identity(n), np.ones((n, n))\n",
        "    \n",
        "    B1 = n*I+(n-1)*J\n",
        "    B2 = n*I-J\n",
        "    \n",
        "    return np.block([[B2]*i+[B1]+[B2]*(n-1-i) for i in range(n)])/n**2"
      ],
      "execution_count": null,
      "outputs": []
    },
    {
      "cell_type": "code",
      "metadata": {
        "colab": {
          "base_uri": "https://localhost:8080/"
        },
        "id": "uAxR9qUkPdJF",
        "outputId": "0e1472ce-f83b-412f-8ea1-06a656bc0f63"
      },
      "source": [
        "n = 4\n",
        "\n",
        "print(a(n), '\\n')\n",
        "print(adaga(n)*n**2)"
      ],
      "execution_count": null,
      "outputs": [
        {
          "output_type": "stream",
          "text": [
            "[[1. 1. 1. 1. 0. 0. 0. 0. 0. 0. 0. 0. 0. 0. 0. 0.]\n",
            " [0. 0. 0. 0. 1. 1. 1. 1. 0. 0. 0. 0. 0. 0. 0. 0.]\n",
            " [0. 0. 0. 0. 0. 0. 0. 0. 1. 1. 1. 1. 0. 0. 0. 0.]\n",
            " [0. 0. 0. 0. 0. 0. 0. 0. 0. 0. 0. 0. 1. 1. 1. 1.]\n",
            " [1. 0. 0. 0. 1. 0. 0. 0. 1. 0. 0. 0. 1. 0. 0. 0.]\n",
            " [0. 1. 0. 0. 0. 1. 0. 0. 0. 1. 0. 0. 0. 1. 0. 0.]\n",
            " [0. 0. 1. 0. 0. 0. 1. 0. 0. 0. 1. 0. 0. 0. 1. 0.]\n",
            " [0. 0. 0. 1. 0. 0. 0. 1. 0. 0. 0. 1. 0. 0. 0. 1.]] \n",
            "\n",
            "[[ 7.  3.  3.  3.  3. -1. -1. -1.  3. -1. -1. -1.  3. -1. -1. -1.]\n",
            " [ 3.  7.  3.  3. -1.  3. -1. -1. -1.  3. -1. -1. -1.  3. -1. -1.]\n",
            " [ 3.  3.  7.  3. -1. -1.  3. -1. -1. -1.  3. -1. -1. -1.  3. -1.]\n",
            " [ 3.  3.  3.  7. -1. -1. -1.  3. -1. -1. -1.  3. -1. -1. -1.  3.]\n",
            " [ 3. -1. -1. -1.  7.  3.  3.  3.  3. -1. -1. -1.  3. -1. -1. -1.]\n",
            " [-1.  3. -1. -1.  3.  7.  3.  3. -1.  3. -1. -1. -1.  3. -1. -1.]\n",
            " [-1. -1.  3. -1.  3.  3.  7.  3. -1. -1.  3. -1. -1. -1.  3. -1.]\n",
            " [-1. -1. -1.  3.  3.  3.  3.  7. -1. -1. -1.  3. -1. -1. -1.  3.]\n",
            " [ 3. -1. -1. -1.  3. -1. -1. -1.  7.  3.  3.  3.  3. -1. -1. -1.]\n",
            " [-1.  3. -1. -1. -1.  3. -1. -1.  3.  7.  3.  3. -1.  3. -1. -1.]\n",
            " [-1. -1.  3. -1. -1. -1.  3. -1.  3.  3.  7.  3. -1. -1.  3. -1.]\n",
            " [-1. -1. -1.  3. -1. -1. -1.  3.  3.  3.  3.  7. -1. -1. -1.  3.]\n",
            " [ 3. -1. -1. -1.  3. -1. -1. -1.  3. -1. -1. -1.  7.  3.  3.  3.]\n",
            " [-1.  3. -1. -1. -1.  3. -1. -1. -1.  3. -1. -1.  3.  7.  3.  3.]\n",
            " [-1. -1.  3. -1. -1. -1.  3. -1. -1. -1.  3. -1.  3.  3.  7.  3.]\n",
            " [-1. -1. -1.  3. -1. -1. -1.  3. -1. -1. -1.  3.  3.  3.  3.  7.]]\n"
          ],
          "name": "stdout"
        }
      ]
    },
    {
      "cell_type": "code",
      "metadata": {
        "colab": {
          "base_uri": "https://localhost:8080/"
        },
        "id": "SPOIpVOjPdJF",
        "outputId": "0812fafe-61ed-49a6-b4e0-ead220c895bc"
      },
      "source": [
        "n = np.random.randint(2, 50)\n",
        "print('n =', n, '\\n')\n",
        "\n",
        "A = a(n)\n",
        "\n",
        "Adag = pinv(A)\n",
        "print(np.linalg.norm(adag(n)-Adag)/np.linalg.norm(Adag))\n",
        "\n",
        "AdagA = np.dot(Adag, A)\n",
        "print(np.linalg.norm(adaga(n)-AdagA)/np.linalg.norm(AdagA))"
      ],
      "execution_count": null,
      "outputs": [
        {
          "output_type": "stream",
          "text": [
            "n = 41 \n",
            "\n",
            "2.0780951612058536e-15\n",
            "2.0157965083325153e-15\n"
          ],
          "name": "stdout"
        }
      ]
    },
    {
      "cell_type": "code",
      "metadata": {
        "id": "5Kx5dL3AR-SI"
      },
      "source": [
        ""
      ],
      "execution_count": null,
      "outputs": []
    }
  ]
}